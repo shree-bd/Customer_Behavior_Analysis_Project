{
 "cells": [
  {
   "cell_type": "code",
   "execution_count": null,
   "id": "e179664e",
   "metadata": {},
   "outputs": [],
   "source": [
    "# Use command below to install pyspark\n",
    "# !pip install pyspark"
   ]
  },
  {
   "cell_type": "code",
   "execution_count": 1,
   "id": "14b7b454",
   "metadata": {},
   "outputs": [],
   "source": [
    "import pyspark\n",
    "from pyspark.sql import SparkSession"
   ]
  },
  {
   "cell_type": "code",
   "execution_count": 2,
   "id": "e37d51f7",
   "metadata": {},
   "outputs": [],
   "source": [
    "spark = SparkSession.builder.master(\"local\").appName(\"Market Analysis\").getOrCreate()"
   ]
  },
  {
   "cell_type": "code",
   "execution_count": 3,
   "id": "249fe7e2",
   "metadata": {},
   "outputs": [
    {
     "data": {
      "text/html": [
       "\n",
       "            <div>\n",
       "                <p><b>SparkSession - in-memory</b></p>\n",
       "                \n",
       "        <div>\n",
       "            <p><b>SparkContext</b></p>\n",
       "\n",
       "            <p><a href=\"http://Sumit:4040\">Spark UI</a></p>\n",
       "\n",
       "            <dl>\n",
       "              <dt>Version</dt>\n",
       "                <dd><code>v3.1.2</code></dd>\n",
       "              <dt>Master</dt>\n",
       "                <dd><code>local</code></dd>\n",
       "              <dt>AppName</dt>\n",
       "                <dd><code>Market Analysis</code></dd>\n",
       "            </dl>\n",
       "        </div>\n",
       "        \n",
       "            </div>\n",
       "        "
      ],
      "text/plain": [
       "<pyspark.sql.session.SparkSession at 0x126c9262f40>"
      ]
     },
     "execution_count": 3,
     "metadata": {},
     "output_type": "execute_result"
    }
   ],
   "source": [
    "spark"
   ]
  },
  {
   "cell_type": "code",
   "execution_count": 4,
   "id": "5873db95",
   "metadata": {},
   "outputs": [],
   "source": [
    "df_market=spark.read.option('header','true').csv(\"C:/Users/Sumit's Laptop/Desktop/CPSC 531/2019-Nov.csv\",inferSchema=True)"
   ]
  },
  {
   "cell_type": "code",
   "execution_count": 34,
   "id": "3fef26dc",
   "metadata": {},
   "outputs": [
    {
     "data": {
      "text/plain": [
       "67501979"
      ]
     },
     "execution_count": 34,
     "metadata": {},
     "output_type": "execute_result"
    }
   ],
   "source": [
    "df_market.count()"
   ]
  },
  {
   "cell_type": "code",
   "execution_count": 5,
   "id": "d9b3ad6a",
   "metadata": {},
   "outputs": [
    {
     "name": "stdout",
     "output_type": "stream",
     "text": [
      "root\n",
      " |-- event_time: string (nullable = true)\n",
      " |-- event_type: string (nullable = true)\n",
      " |-- product_id: integer (nullable = true)\n",
      " |-- category_id: long (nullable = true)\n",
      " |-- category_code: string (nullable = true)\n",
      " |-- brand: string (nullable = true)\n",
      " |-- price: double (nullable = true)\n",
      " |-- user_id: integer (nullable = true)\n",
      " |-- user_session: string (nullable = true)\n",
      "\n"
     ]
    }
   ],
   "source": [
    "df_market.printSchema()"
   ]
  },
  {
   "cell_type": "code",
   "execution_count": 5,
   "id": "b4f46dcb",
   "metadata": {},
   "outputs": [],
   "source": [
    "df_ml = df_market"
   ]
  },
  {
   "cell_type": "code",
   "execution_count": 7,
   "id": "117687ee",
   "metadata": {},
   "outputs": [
    {
     "data": {
      "text/plain": [
       "[('event_time', 'string'),\n",
       " ('event_type', 'string'),\n",
       " ('product_id', 'int'),\n",
       " ('category_id', 'bigint'),\n",
       " ('category_code', 'string'),\n",
       " ('brand', 'string'),\n",
       " ('price', 'double'),\n",
       " ('user_id', 'int'),\n",
       " ('user_session', 'string')]"
      ]
     },
     "execution_count": 7,
     "metadata": {},
     "output_type": "execute_result"
    }
   ],
   "source": [
    "df_market.dtypes"
   ]
  },
  {
   "cell_type": "code",
   "execution_count": 26,
   "id": "fff811a3",
   "metadata": {
    "scrolled": true
   },
   "outputs": [
    {
     "name": "stdout",
     "output_type": "stream",
     "text": [
      "+--------------------+----------+----------+-------------------+--------------------+-------+-------+---------+--------------------+\n",
      "|          event_time|event_type|product_id|        category_id|       category_code|  brand|  price|  user_id|        user_session|\n",
      "+--------------------+----------+----------+-------------------+--------------------+-------+-------+---------+--------------------+\n",
      "|2019-11-01 00:01:...|      view|   5701331|2053013553970938175|auto.accessories....|    ams| 221.37|566279704|efd58a11-6fbf-4aa...|\n",
      "|2019-11-01 00:02:...|      view|  28715777|2053013565228450757|       apparel.shoes|nexpero|  75.42|518621750|6d7138cd-b28a-4f0...|\n",
      "|2019-11-01 00:02:...|      view|   6500695|2053013554155487563|computers.compone...|   asus| 248.66|512370912|daf0bf99-adf1-487...|\n",
      "|2019-11-01 00:05:...|      view|   5100378|2053013553341792533|  electronics.clocks| xiaomi|  70.53|521059488|dd9f62f4-b557-450...|\n",
      "|2019-11-01 00:08:...|      view|   1005121|2053013555631882655|electronics.smart...|  apple| 973.41|518077588|2e5d02b9-a24b-4a0...|\n",
      "|2019-11-01 00:09:...|      view|   1305977|2053013558920217191|  computers.notebook|  apple|2496.59|514171705|b937acaa-d00f-456...|\n",
      "|2019-11-01 00:09:...|      view|   1005160|2053013555631882655|electronics.smart...| xiaomi| 212.08|512946784|c3848fac-a6a0-4fb...|\n",
      "|2019-11-01 00:10:...|      view|   1801905|2053013554415534427|electronics.video.tv|samsung|1029.37|543638253|b3747164-e7c6-453...|\n",
      "|2019-11-01 00:11:...|      view|   1005135|2053013555631882655|electronics.smart...|  apple|1665.36|534313202|86171b68-6479-4b5...|\n",
      "|2019-11-01 00:18:...|      view|   5100875|2053013553341792533|  electronics.clocks|samsung|  281.3|535230834|fb3a1e61-9fd6-480...|\n",
      "|2019-11-01 00:21:...|      view|   1005136|2053013555631882655|electronics.smart...|  apple|2011.63|566283090|1f713fad-e127-40f...|\n",
      "|2019-11-01 00:22:...|      view|   1002881|2053013555631882655|electronics.smart...| xiaomi| 253.88|515480082|9af8a392-633c-4da...|\n",
      "|2019-11-01 00:23:...|      view|   1306462|2053013558920217191|  computers.notebook| lenovo|1029.37|512406522|8c2d73f1-3354-462...|\n",
      "|2019-11-01 00:25:...|      view|   1004582|2053013555631882655|electronics.smart...|  meizu| 128.45|517775322|723a4611-2a88-4e0...|\n",
      "|2019-11-01 00:26:...|      view|   1004042|2053013555631882655|electronics.smart...| xiaomi| 138.74|528390796|043872b8-0ccb-4ca...|\n",
      "|2019-11-01 00:26:...|      view|   1005099|2053013555631882655|electronics.smart...|samsung| 139.64|549335836|ebc64ad2-79d8-455...|\n",
      "|2019-11-01 00:28:...|      view|   3800653|2053013566176363511|     appliances.iron|  bosch| 118.15|543055164|c5ba2f9a-958a-40f...|\n",
      "|2019-11-01 00:29:...|      view|   1003747|2053013555631882655|electronics.smart...|   sony| 282.81|542102004|8f65dac1-e176-4b7...|\n",
      "|2019-11-01 00:30:...|      view|   1801573|2053013554415534427|electronics.video.tv|   sony| 926.41|516181728|040ec66a-4473-402...|\n",
      "|2019-11-01 00:32:...|      view|  28717081|2053013565069067197|  apparel.shoes.keds|   puma| 100.13|560914255|5d970d08-ccf5-422...|\n",
      "+--------------------+----------+----------+-------------------+--------------------+-------+-------+---------+--------------------+\n",
      "only showing top 20 rows\n",
      "\n"
     ]
    }
   ],
   "source": [
    "df_market.show()"
   ]
  },
  {
   "cell_type": "code",
   "execution_count": 6,
   "id": "913856c6",
   "metadata": {},
   "outputs": [],
   "source": [
    "df_market = df_market.dropDuplicates()"
   ]
  },
  {
   "cell_type": "code",
   "execution_count": 27,
   "id": "5a30d272",
   "metadata": {},
   "outputs": [
    {
     "name": "stdout",
     "output_type": "stream",
     "text": [
      "+--------------------+----------+----------+-------------------+--------------------+-------+-------+---------+--------------------+\n",
      "|          event_time|event_type|product_id|        category_id|       category_code|  brand|  price|  user_id|        user_session|\n",
      "+--------------------+----------+----------+-------------------+--------------------+-------+-------+---------+--------------------+\n",
      "|2019-11-01 00:01:...|      view|   5701331|2053013553970938175|auto.accessories....|    ams| 221.37|566279704|efd58a11-6fbf-4aa...|\n",
      "|2019-11-01 00:02:...|      view|  28715777|2053013565228450757|       apparel.shoes|nexpero|  75.42|518621750|6d7138cd-b28a-4f0...|\n",
      "|2019-11-01 00:02:...|      view|   6500695|2053013554155487563|computers.compone...|   asus| 248.66|512370912|daf0bf99-adf1-487...|\n",
      "|2019-11-01 00:05:...|      view|   5100378|2053013553341792533|  electronics.clocks| xiaomi|  70.53|521059488|dd9f62f4-b557-450...|\n",
      "|2019-11-01 00:08:...|      view|   1005121|2053013555631882655|electronics.smart...|  apple| 973.41|518077588|2e5d02b9-a24b-4a0...|\n",
      "|2019-11-01 00:09:...|      view|   1305977|2053013558920217191|  computers.notebook|  apple|2496.59|514171705|b937acaa-d00f-456...|\n",
      "|2019-11-01 00:09:...|      view|   1005160|2053013555631882655|electronics.smart...| xiaomi| 212.08|512946784|c3848fac-a6a0-4fb...|\n",
      "|2019-11-01 00:10:...|      view|   1801905|2053013554415534427|electronics.video.tv|samsung|1029.37|543638253|b3747164-e7c6-453...|\n",
      "|2019-11-01 00:11:...|      view|   1005135|2053013555631882655|electronics.smart...|  apple|1665.36|534313202|86171b68-6479-4b5...|\n",
      "|2019-11-01 00:18:...|      view|   5100875|2053013553341792533|  electronics.clocks|samsung|  281.3|535230834|fb3a1e61-9fd6-480...|\n",
      "|2019-11-01 00:21:...|      view|   1005136|2053013555631882655|electronics.smart...|  apple|2011.63|566283090|1f713fad-e127-40f...|\n",
      "|2019-11-01 00:22:...|      view|   1002881|2053013555631882655|electronics.smart...| xiaomi| 253.88|515480082|9af8a392-633c-4da...|\n",
      "|2019-11-01 00:23:...|      view|   1306462|2053013558920217191|  computers.notebook| lenovo|1029.37|512406522|8c2d73f1-3354-462...|\n",
      "|2019-11-01 00:25:...|      view|   1004582|2053013555631882655|electronics.smart...|  meizu| 128.45|517775322|723a4611-2a88-4e0...|\n",
      "|2019-11-01 00:26:...|      view|   1004042|2053013555631882655|electronics.smart...| xiaomi| 138.74|528390796|043872b8-0ccb-4ca...|\n",
      "|2019-11-01 00:26:...|      view|   1005099|2053013555631882655|electronics.smart...|samsung| 139.64|549335836|ebc64ad2-79d8-455...|\n",
      "|2019-11-01 00:28:...|      view|   3800653|2053013566176363511|     appliances.iron|  bosch| 118.15|543055164|c5ba2f9a-958a-40f...|\n",
      "|2019-11-01 00:29:...|      view|   1003747|2053013555631882655|electronics.smart...|   sony| 282.81|542102004|8f65dac1-e176-4b7...|\n",
      "|2019-11-01 00:30:...|      view|   1801573|2053013554415534427|electronics.video.tv|   sony| 926.41|516181728|040ec66a-4473-402...|\n",
      "|2019-11-01 00:32:...|      view|  28717081|2053013565069067197|  apparel.shoes.keds|   puma| 100.13|560914255|5d970d08-ccf5-422...|\n",
      "+--------------------+----------+----------+-------------------+--------------------+-------+-------+---------+--------------------+\n",
      "only showing top 20 rows\n",
      "\n"
     ]
    }
   ],
   "source": [
    "df_market.show()"
   ]
  },
  {
   "cell_type": "code",
   "execution_count": 7,
   "id": "8925c51f",
   "metadata": {},
   "outputs": [],
   "source": [
    "df_market = df_market.na.drop()"
   ]
  },
  {
   "cell_type": "code",
   "execution_count": 28,
   "id": "4b16aab6",
   "metadata": {},
   "outputs": [
    {
     "name": "stdout",
     "output_type": "stream",
     "text": [
      "+--------------------+----------+----------+-------------------+--------------------+-------+-------+---------+--------------------+\n",
      "|          event_time|event_type|product_id|        category_id|       category_code|  brand|  price|  user_id|        user_session|\n",
      "+--------------------+----------+----------+-------------------+--------------------+-------+-------+---------+--------------------+\n",
      "|2019-11-01 00:01:...|      view|   5701331|2053013553970938175|auto.accessories....|    ams| 221.37|566279704|efd58a11-6fbf-4aa...|\n",
      "|2019-11-01 00:02:...|      view|  28715777|2053013565228450757|       apparel.shoes|nexpero|  75.42|518621750|6d7138cd-b28a-4f0...|\n",
      "|2019-11-01 00:02:...|      view|   6500695|2053013554155487563|computers.compone...|   asus| 248.66|512370912|daf0bf99-adf1-487...|\n",
      "|2019-11-01 00:05:...|      view|   5100378|2053013553341792533|  electronics.clocks| xiaomi|  70.53|521059488|dd9f62f4-b557-450...|\n",
      "|2019-11-01 00:08:...|      view|   1005121|2053013555631882655|electronics.smart...|  apple| 973.41|518077588|2e5d02b9-a24b-4a0...|\n",
      "|2019-11-01 00:09:...|      view|   1305977|2053013558920217191|  computers.notebook|  apple|2496.59|514171705|b937acaa-d00f-456...|\n",
      "|2019-11-01 00:09:...|      view|   1005160|2053013555631882655|electronics.smart...| xiaomi| 212.08|512946784|c3848fac-a6a0-4fb...|\n",
      "|2019-11-01 00:10:...|      view|   1801905|2053013554415534427|electronics.video.tv|samsung|1029.37|543638253|b3747164-e7c6-453...|\n",
      "|2019-11-01 00:11:...|      view|   1005135|2053013555631882655|electronics.smart...|  apple|1665.36|534313202|86171b68-6479-4b5...|\n",
      "|2019-11-01 00:18:...|      view|   5100875|2053013553341792533|  electronics.clocks|samsung|  281.3|535230834|fb3a1e61-9fd6-480...|\n",
      "|2019-11-01 00:21:...|      view|   1005136|2053013555631882655|electronics.smart...|  apple|2011.63|566283090|1f713fad-e127-40f...|\n",
      "|2019-11-01 00:22:...|      view|   1002881|2053013555631882655|electronics.smart...| xiaomi| 253.88|515480082|9af8a392-633c-4da...|\n",
      "|2019-11-01 00:23:...|      view|   1306462|2053013558920217191|  computers.notebook| lenovo|1029.37|512406522|8c2d73f1-3354-462...|\n",
      "|2019-11-01 00:25:...|      view|   1004582|2053013555631882655|electronics.smart...|  meizu| 128.45|517775322|723a4611-2a88-4e0...|\n",
      "|2019-11-01 00:26:...|      view|   1004042|2053013555631882655|electronics.smart...| xiaomi| 138.74|528390796|043872b8-0ccb-4ca...|\n",
      "|2019-11-01 00:26:...|      view|   1005099|2053013555631882655|electronics.smart...|samsung| 139.64|549335836|ebc64ad2-79d8-455...|\n",
      "|2019-11-01 00:28:...|      view|   3800653|2053013566176363511|     appliances.iron|  bosch| 118.15|543055164|c5ba2f9a-958a-40f...|\n",
      "|2019-11-01 00:29:...|      view|   1003747|2053013555631882655|electronics.smart...|   sony| 282.81|542102004|8f65dac1-e176-4b7...|\n",
      "|2019-11-01 00:30:...|      view|   1801573|2053013554415534427|electronics.video.tv|   sony| 926.41|516181728|040ec66a-4473-402...|\n",
      "|2019-11-01 00:32:...|      view|  28717081|2053013565069067197|  apparel.shoes.keds|   puma| 100.13|560914255|5d970d08-ccf5-422...|\n",
      "+--------------------+----------+----------+-------------------+--------------------+-------+-------+---------+--------------------+\n",
      "only showing top 20 rows\n",
      "\n"
     ]
    }
   ],
   "source": [
    "df_market.show()"
   ]
  },
  {
   "cell_type": "code",
   "execution_count": 29,
   "id": "e9705495",
   "metadata": {},
   "outputs": [
    {
     "data": {
      "text/plain": [
       "42018766"
      ]
     },
     "execution_count": 29,
     "metadata": {},
     "output_type": "execute_result"
    }
   ],
   "source": [
    "df_market.count()"
   ]
  },
  {
   "cell_type": "code",
   "execution_count": 21,
   "id": "3043cac2",
   "metadata": {},
   "outputs": [],
   "source": [
    "# For finding day of week\n",
    "\n",
    "from pyspark.sql.functions import dayofweek"
   ]
  },
  {
   "cell_type": "code",
   "execution_count": 55,
   "id": "f7d12d7a",
   "metadata": {},
   "outputs": [],
   "source": [
    "df1 = df_market.withColumn('Week',dayofweek(df_market.event_time))"
   ]
  },
  {
   "cell_type": "code",
   "execution_count": 56,
   "id": "31c96aa8",
   "metadata": {},
   "outputs": [],
   "source": [
    "df1 = df1.groupBy('Week','event_type').count()"
   ]
  },
  {
   "cell_type": "code",
   "execution_count": 57,
   "id": "d8578737",
   "metadata": {},
   "outputs": [],
   "source": [
    "df1 = df1.orderBy(df1.Week.asc())"
   ]
  },
  {
   "cell_type": "code",
   "execution_count": 58,
   "id": "243ae96d",
   "metadata": {},
   "outputs": [
    {
     "name": "stdout",
     "output_type": "stream",
     "text": [
      "+----+----------+--------+\n",
      "|Week|event_type|   count|\n",
      "+----+----------+--------+\n",
      "|   1|      cart|  586851|\n",
      "|   1|  purchase|  253381|\n",
      "|   1|      view|10655259|\n",
      "|   2|      view| 7060674|\n",
      "|   2|      cart|  251754|\n",
      "|   2|  purchase|  105184|\n",
      "|   3|      cart|  233132|\n",
      "|   3|  purchase|   96793|\n",
      "|   3|      view| 6758308|\n",
      "|   4|      view| 6728150|\n",
      "|   4|  purchase|   97257|\n",
      "|   4|      cart|  235121|\n",
      "|   5|      cart|  337040|\n",
      "|   5|      view| 7768675|\n",
      "|   5|  purchase|   96558|\n",
      "|   6|  purchase|  104466|\n",
      "|   6|      view|12138186|\n",
      "|   6|      cart|  742195|\n",
      "|   7|      cart|  642837|\n",
      "|   7|      view|12446858|\n",
      "+----+----------+--------+\n",
      "only showing top 20 rows\n",
      "\n"
     ]
    }
   ],
   "source": [
    "df1.show()"
   ]
  },
  {
   "cell_type": "code",
   "execution_count": null,
   "id": "2bea0a45",
   "metadata": {},
   "outputs": [],
   "source": [
    "df1.head(30)"
   ]
  },
  {
   "cell_type": "code",
   "execution_count": 13,
   "id": "ae9757a9",
   "metadata": {},
   "outputs": [],
   "source": [
    "e_type = df_market.groupBy('event_type').count()"
   ]
  },
  {
   "cell_type": "code",
   "execution_count": 14,
   "id": "5c143227",
   "metadata": {},
   "outputs": [
    {
     "name": "stdout",
     "output_type": "stream",
     "text": [
      "+----------+--------+\n",
      "|event_type|   count|\n",
      "+----------+--------+\n",
      "|  purchase|  659251|\n",
      "|      view|39314217|\n",
      "|      cart| 2045298|\n",
      "+----------+--------+\n",
      "\n"
     ]
    }
   ],
   "source": [
    "e_type.show()"
   ]
  },
  {
   "cell_type": "code",
   "execution_count": 15,
   "id": "a660d5ca",
   "metadata": {},
   "outputs": [
    {
     "data": {
      "text/plain": [
       "pyspark.sql.dataframe.DataFrame"
      ]
     },
     "execution_count": 15,
     "metadata": {},
     "output_type": "execute_result"
    }
   ],
   "source": [
    "type(e_type)"
   ]
  },
  {
   "cell_type": "code",
   "execution_count": 16,
   "id": "ff2a85a7",
   "metadata": {},
   "outputs": [],
   "source": [
    "e_type = e_type.toPandas()"
   ]
  },
  {
   "cell_type": "code",
   "execution_count": 17,
   "id": "685edc32",
   "metadata": {},
   "outputs": [
    {
     "data": {
      "text/html": [
       "<div>\n",
       "<style scoped>\n",
       "    .dataframe tbody tr th:only-of-type {\n",
       "        vertical-align: middle;\n",
       "    }\n",
       "\n",
       "    .dataframe tbody tr th {\n",
       "        vertical-align: top;\n",
       "    }\n",
       "\n",
       "    .dataframe thead th {\n",
       "        text-align: right;\n",
       "    }\n",
       "</style>\n",
       "<table border=\"1\" class=\"dataframe\">\n",
       "  <thead>\n",
       "    <tr style=\"text-align: right;\">\n",
       "      <th></th>\n",
       "      <th>event_type</th>\n",
       "      <th>count</th>\n",
       "    </tr>\n",
       "  </thead>\n",
       "  <tbody>\n",
       "    <tr>\n",
       "      <th>0</th>\n",
       "      <td>purchase</td>\n",
       "      <td>659251</td>\n",
       "    </tr>\n",
       "    <tr>\n",
       "      <th>1</th>\n",
       "      <td>view</td>\n",
       "      <td>39314217</td>\n",
       "    </tr>\n",
       "    <tr>\n",
       "      <th>2</th>\n",
       "      <td>cart</td>\n",
       "      <td>2045298</td>\n",
       "    </tr>\n",
       "  </tbody>\n",
       "</table>\n",
       "</div>"
      ],
      "text/plain": [
       "  event_type     count\n",
       "0   purchase    659251\n",
       "1       view  39314217\n",
       "2       cart   2045298"
      ]
     },
     "execution_count": 17,
     "metadata": {},
     "output_type": "execute_result"
    }
   ],
   "source": [
    "e_type.head()"
   ]
  },
  {
   "cell_type": "code",
   "execution_count": 18,
   "id": "96e0f3ae",
   "metadata": {},
   "outputs": [],
   "source": [
    "#Import Graph\n",
    "import matplotlib.pyplot as plt"
   ]
  },
  {
   "cell_type": "code",
   "execution_count": 19,
   "id": "895dcbfd",
   "metadata": {},
   "outputs": [
    {
     "data": {
      "image/png": "[encoded data removed]",
      "text/plain": [
       "<Figure size 640x480 with 1 Axes>"
      ]
     },
     "metadata": {},
     "output_type": "display_data"
    }
   ],
   "source": [
    "plt.pie(e_type['count'],labels=e_type['event_type'],autopct='%1.1f%%')\n",
    "plt.title('Customer Behavior')\n",
    "plt.axis('equal')\n",
    "plt.show()"
   ]
  },
  {
   "cell_type": "code",
   "execution_count": 20,
   "id": "1599d546",
   "metadata": {},
   "outputs": [],
   "source": [
    "df1 = df1.toPandas()"
   ]
  },
  {
   "cell_type": "code",
   "execution_count": 21,
   "id": "5dfc918c",
   "metadata": {},
   "outputs": [
    {
     "data": {
      "text/html": [
       "<div>\n",
       "<style scoped>\n",
       "    .dataframe tbody tr th:only-of-type {\n",
       "        vertical-align: middle;\n",
       "    }\n",
       "\n",
       "    .dataframe tbody tr th {\n",
       "        vertical-align: top;\n",
       "    }\n",
       "\n",
       "    .dataframe thead th {\n",
       "        text-align: right;\n",
       "    }\n",
       "</style>\n",
       "<table border=\"1\" class=\"dataframe\">\n",
       "  <thead>\n",
       "    <tr style=\"text-align: right;\">\n",
       "      <th></th>\n",
       "      <th>Week</th>\n",
       "      <th>event_type</th>\n",
       "      <th>count</th>\n",
       "    </tr>\n",
       "  </thead>\n",
       "  <tbody>\n",
       "    <tr>\n",
       "      <th>0</th>\n",
       "      <td>1</td>\n",
       "      <td>cart</td>\n",
       "      <td>395078</td>\n",
       "    </tr>\n",
       "    <tr>\n",
       "      <th>1</th>\n",
       "      <td>1</td>\n",
       "      <td>purchase</td>\n",
       "      <td>183486</td>\n",
       "    </tr>\n",
       "    <tr>\n",
       "      <th>2</th>\n",
       "      <td>1</td>\n",
       "      <td>view</td>\n",
       "      <td>6601967</td>\n",
       "    </tr>\n",
       "    <tr>\n",
       "      <th>3</th>\n",
       "      <td>2</td>\n",
       "      <td>cart</td>\n",
       "      <td>161600</td>\n",
       "    </tr>\n",
       "    <tr>\n",
       "      <th>4</th>\n",
       "      <td>2</td>\n",
       "      <td>purchase</td>\n",
       "      <td>73543</td>\n",
       "    </tr>\n",
       "    <tr>\n",
       "      <th>5</th>\n",
       "      <td>2</td>\n",
       "      <td>view</td>\n",
       "      <td>4309741</td>\n",
       "    </tr>\n",
       "    <tr>\n",
       "      <th>6</th>\n",
       "      <td>3</td>\n",
       "      <td>purchase</td>\n",
       "      <td>68076</td>\n",
       "    </tr>\n",
       "    <tr>\n",
       "      <th>7</th>\n",
       "      <td>3</td>\n",
       "      <td>cart</td>\n",
       "      <td>152796</td>\n",
       "    </tr>\n",
       "    <tr>\n",
       "      <th>8</th>\n",
       "      <td>3</td>\n",
       "      <td>view</td>\n",
       "      <td>4106304</td>\n",
       "    </tr>\n",
       "    <tr>\n",
       "      <th>9</th>\n",
       "      <td>4</td>\n",
       "      <td>purchase</td>\n",
       "      <td>69027</td>\n",
       "    </tr>\n",
       "    <tr>\n",
       "      <th>10</th>\n",
       "      <td>4</td>\n",
       "      <td>cart</td>\n",
       "      <td>154652</td>\n",
       "    </tr>\n",
       "    <tr>\n",
       "      <th>11</th>\n",
       "      <td>4</td>\n",
       "      <td>view</td>\n",
       "      <td>4103774</td>\n",
       "    </tr>\n",
       "    <tr>\n",
       "      <th>12</th>\n",
       "      <td>5</td>\n",
       "      <td>view</td>\n",
       "      <td>4825681</td>\n",
       "    </tr>\n",
       "    <tr>\n",
       "      <th>13</th>\n",
       "      <td>5</td>\n",
       "      <td>purchase</td>\n",
       "      <td>68372</td>\n",
       "    </tr>\n",
       "    <tr>\n",
       "      <th>14</th>\n",
       "      <td>5</td>\n",
       "      <td>cart</td>\n",
       "      <td>229226</td>\n",
       "    </tr>\n",
       "    <tr>\n",
       "      <th>15</th>\n",
       "      <td>6</td>\n",
       "      <td>purchase</td>\n",
       "      <td>76319</td>\n",
       "    </tr>\n",
       "    <tr>\n",
       "      <th>16</th>\n",
       "      <td>6</td>\n",
       "      <td>view</td>\n",
       "      <td>7615810</td>\n",
       "    </tr>\n",
       "    <tr>\n",
       "      <th>17</th>\n",
       "      <td>6</td>\n",
       "      <td>cart</td>\n",
       "      <td>513522</td>\n",
       "    </tr>\n",
       "    <tr>\n",
       "      <th>18</th>\n",
       "      <td>7</td>\n",
       "      <td>cart</td>\n",
       "      <td>438424</td>\n",
       "    </tr>\n",
       "    <tr>\n",
       "      <th>19</th>\n",
       "      <td>7</td>\n",
       "      <td>purchase</td>\n",
       "      <td>120428</td>\n",
       "    </tr>\n",
       "    <tr>\n",
       "      <th>20</th>\n",
       "      <td>7</td>\n",
       "      <td>view</td>\n",
       "      <td>7750940</td>\n",
       "    </tr>\n",
       "  </tbody>\n",
       "</table>\n",
       "</div>"
      ],
      "text/plain": [
       "    Week event_type    count\n",
       "0      1       cart   395078\n",
       "1      1   purchase   183486\n",
       "2      1       view  6601967\n",
       "3      2       cart   161600\n",
       "4      2   purchase    73543\n",
       "5      2       view  4309741\n",
       "6      3   purchase    68076\n",
       "7      3       cart   152796\n",
       "8      3       view  4106304\n",
       "9      4   purchase    69027\n",
       "10     4       cart   154652\n",
       "11     4       view  4103774\n",
       "12     5       view  4825681\n",
       "13     5   purchase    68372\n",
       "14     5       cart   229226\n",
       "15     6   purchase    76319\n",
       "16     6       view  7615810\n",
       "17     6       cart   513522\n",
       "18     7       cart   438424\n",
       "19     7   purchase   120428\n",
       "20     7       view  7750940"
      ]
     },
     "execution_count": 21,
     "metadata": {},
     "output_type": "execute_result"
    }
   ],
   "source": [
    "df1.head(21)"
   ]
  },
  {
   "cell_type": "code",
   "execution_count": 22,
   "id": "4158f569",
   "metadata": {},
   "outputs": [],
   "source": [
    "only_purchases = df1.loc[df1.event_type == 'purchase'] \n",
    "only_cart = df1.loc[df1.event_type == 'cart']\n",
    "only_view = df1.loc[df1.event_type == 'view']"
   ]
  },
  {
   "cell_type": "code",
   "execution_count": 38,
   "id": "39492de8",
   "metadata": {},
   "outputs": [
    {
     "data": {
      "image/png": "[encoded data removed]",
      "text/plain": [
       "<Figure size 640x480 with 1 Axes>"
      ]
     },
     "metadata": {},
     "output_type": "display_data"
    }
   ],
   "source": [
    "plt.bar(only_view['Week'],only_view['count'],color='green')\n",
    "plt.title('Views per Day', fontsize=14)\n",
    "plt.xlabel('Day (1-7 = Sunday-Saturday)', fontsize=14)\n",
    "plt.ylabel('Insight in millions', fontsize=14)\n",
    "plt.show()"
   ]
  },
  {
   "cell_type": "code",
   "execution_count": 36,
   "id": "915ad017",
   "metadata": {},
   "outputs": [
    {
     "data": {
      "image/png": "[encoded data removed]",
      "text/plain": [
       "<Figure size 640x480 with 1 Axes>"
      ]
     },
     "metadata": {},
     "output_type": "display_data"
    }
   ],
   "source": [
    "plt.bar(only_cart['Week'],only_cart['count'],color='blue')\n",
    "plt.title('Items Added in Cart per Day', fontsize=14)\n",
    "plt.xlabel('Day (1-7 = Sunday-Saturday)', fontsize=14)\n",
    "plt.ylabel('Insight', fontsize=14)\n",
    "plt.show()"
   ]
  },
  {
   "cell_type": "code",
   "execution_count": 37,
   "id": "08618edb",
   "metadata": {},
   "outputs": [
    {
     "data": {
      "image/png": "[encoded data removed]",
      "text/plain": [
       "<Figure size 640x480 with 1 Axes>"
      ]
     },
     "metadata": {},
     "output_type": "display_data"
    }
   ],
   "source": [
    "plt.bar(only_purchases['Week'],only_purchases['count'],color='orange')\n",
    "plt.title('Purchases per Day', fontsize=14)\n",
    "plt.xlabel('Day (1-7 = Sunday-Saturday)', fontsize=14)\n",
    "plt.ylabel('Insight', fontsize=14)\n",
    "plt.show()"
   ]
  },
  {
   "cell_type": "markdown",
   "id": "6c51c40a",
   "metadata": {},
   "source": [
    "# ML Part"
   ]
  },
  {
   "cell_type": "code",
   "execution_count": 6,
   "id": "f245dab8",
   "metadata": {},
   "outputs": [],
   "source": [
    "from pyspark.sql.functions import when, col, split, dayofweek"
   ]
  },
  {
   "cell_type": "code",
   "execution_count": 7,
   "id": "fea35c8c",
   "metadata": {},
   "outputs": [
    {
     "name": "stdout",
     "output_type": "stream",
     "text": [
      "+----------+\n",
      "|event_type|\n",
      "+----------+\n",
      "|  purchase|\n",
      "|      view|\n",
      "|      cart|\n",
      "+----------+\n",
      "\n"
     ]
    }
   ],
   "source": [
    "df_ml.select(\"event_type\").distinct().show()"
   ]
  },
  {
   "cell_type": "code",
   "execution_count": 8,
   "id": "4e316743",
   "metadata": {},
   "outputs": [],
   "source": [
    "df_targets = df_ml[df_ml.event_type.isin(\"cart\",\"purchase\")].dropDuplicates(['event_type', 'product_id','price', 'user_id','user_session'])\n"
   ]
  },
  {
   "cell_type": "code",
   "execution_count": 9,
   "id": "c6c7351b",
   "metadata": {},
   "outputs": [],
   "source": [
    "df_targets = df_targets.withColumn('is_purchased', when(col(\"event_type\") == 'purchase', '1').otherwise('0'))"
   ]
  },
  {
   "cell_type": "code",
   "execution_count": 51,
   "id": "0ce1e099",
   "metadata": {},
   "outputs": [
    {
     "name": "stdout",
     "output_type": "stream",
     "text": [
      "+------------+\n",
      "|is_purchased|\n",
      "+------------+\n",
      "|           0|\n",
      "|           1|\n",
      "+------------+\n",
      "\n"
     ]
    }
   ],
   "source": [
    "df_targets.select(\"is_purchased\").distinct().show()"
   ]
  },
  {
   "cell_type": "code",
   "execution_count": 10,
   "id": "1826fb7b",
   "metadata": {},
   "outputs": [],
   "source": [
    "df_targets = df_targets.withColumn('event_weekday',dayofweek(df_targets.event_time))"
   ]
  },
  {
   "cell_type": "code",
   "execution_count": 121,
   "id": "0d23bc0b",
   "metadata": {},
   "outputs": [
    {
     "data": {
      "text/plain": [
       "Row(event_time='2019-11-20 08:09:09 UTC', event_type='cart', product_id=1004836, category_id=2053013555631882655, category_code='electronics.smartphone', brand='samsung', price=229.88, user_id=548035709, user_session='001e3221-1cba-48aa-aca9-20ab30c5a16a', is_purchased='0', event_weekday=4)"
      ]
     },
     "execution_count": 121,
     "metadata": {},
     "output_type": "execute_result"
    }
   ],
   "source": [
    "df_targets.head()"
   ]
  },
  {
   "cell_type": "code",
   "execution_count": 11,
   "id": "9624da47",
   "metadata": {},
   "outputs": [],
   "source": [
    "split_col = pyspark.sql.functions.split(df_targets['category_code'], '[\\.]')\n",
    "df_targets = df_targets.withColumn('category_code_level1', split_col.getItem(0))\n",
    "df_targets = df_targets.withColumn('category_code_level2', split_col.getItem(1))"
   ]
  },
  {
   "cell_type": "code",
   "execution_count": 12,
   "id": "d8d1acae",
   "metadata": {},
   "outputs": [],
   "source": [
    "cart_purchase_users = df_targets[df_targets.event_type.isin([\"cart\",\"purchase\"])]"
   ]
  },
  {
   "cell_type": "code",
   "execution_count": 13,
   "id": "a44d77d2",
   "metadata": {},
   "outputs": [],
   "source": [
    "cart_purchase_users_all_activity = df_targets[df_targets.user_id.isin(cart_purchase_users.user_id)]"
   ]
  },
  {
   "cell_type": "code",
   "execution_count": null,
   "id": "660bbc83",
   "metadata": {},
   "outputs": [],
   "source": [
    "cart_purchase_users_all_activity.head()"
   ]
  },
  {
   "cell_type": "code",
   "execution_count": 14,
   "id": "bcee108a",
   "metadata": {},
   "outputs": [],
   "source": [
    "activity_in_session = cart_purchase_users_all_activity.groupby(\"user_session\",\"event_type\").count()"
   ]
  },
  {
   "cell_type": "code",
   "execution_count": 15,
   "id": "1222076d",
   "metadata": {},
   "outputs": [],
   "source": [
    "activity_in_session = activity_in_session.withColumnRenamed(\"count\", \"activity_count\")"
   ]
  },
  {
   "cell_type": "code",
   "execution_count": 16,
   "id": "2f770cfe",
   "metadata": {},
   "outputs": [],
   "source": [
    "activity_in_session = activity_in_session.drop(\"event_type\")"
   ]
  },
  {
   "cell_type": "code",
   "execution_count": 19,
   "id": "5a1158b1",
   "metadata": {},
   "outputs": [
    {
     "name": "stdout",
     "output_type": "stream",
     "text": [
      "+--------------------+--------------+\n",
      "|        user_session|activity_count|\n",
      "+--------------------+--------------+\n",
      "|0613e789-9739-445...|             2|\n",
      "|1097ce10-667f-47d...|             1|\n",
      "|13536475-455b-4c2...|             1|\n",
      "|1aa65d1c-45dd-417...|             1|\n",
      "|205d7281-a60b-4bd...|             1|\n",
      "|28375e61-c8f9-47b...|             2|\n",
      "|2a11adcc-c608-49e...|             2|\n",
      "|2b10b581-736c-4f9...|             1|\n",
      "|2fdf1dae-cfa1-402...|             2|\n",
      "|3a954d14-04b6-47c...|             1|\n",
      "|4292ad01-e32d-439...|             1|\n",
      "|49d4c036-ccb4-4fc...|             1|\n",
      "|4b487dc3-0878-42e...|             1|\n",
      "|4b9e3a7e-abb0-4f4...|             2|\n",
      "|5181a987-3dd9-418...|             1|\n",
      "|5202a9d9-41f1-41c...|             1|\n",
      "|52c36061-34bf-477...|             1|\n",
      "|56f7bbfe-22a6-4d4...|             1|\n",
      "|5a93fd64-283a-4bb...|             1|\n",
      "|6041e5c3-ca32-4a2...|             1|\n",
      "+--------------------+--------------+\n",
      "only showing top 20 rows\n",
      "\n"
     ]
    }
   ],
   "source": [
    "activity_in_session.show()"
   ]
  },
  {
   "cell_type": "code",
   "execution_count": null,
   "id": "3740953a",
   "metadata": {},
   "outputs": [],
   "source": []
  },
  {
   "cell_type": "code",
   "execution_count": 17,
   "id": "e4fac78d",
   "metadata": {},
   "outputs": [],
   "source": [
    "df_targets = df_targets.join(activity_in_session, on=['user_session'], how='left')"
   ]
  },
  {
   "cell_type": "code",
   "execution_count": 18,
   "id": "0cab596f",
   "metadata": {},
   "outputs": [],
   "source": [
    "df_targets = df_targets.na.fill(value= 0, subset=['activity_count'])"
   ]
  },
  {
   "cell_type": "code",
   "execution_count": 22,
   "id": "65743037",
   "metadata": {},
   "outputs": [
    {
     "name": "stdout",
     "output_type": "stream",
     "text": [
      "+--------------------+--------------------+----------+----------+-------------------+--------------------+----------+-------+---------+------------+-------------+--------------------+--------------------+--------------+\n",
      "|        user_session|          event_time|event_type|product_id|        category_id|       category_code|     brand|  price|  user_id|is_purchased|event_weekday|category_code_level1|category_code_level2|activity_count|\n",
      "+--------------------+--------------------+----------+----------+-------------------+--------------------+----------+-------+---------+------------+-------------+--------------------+--------------------+--------------+\n",
      "|000506dd-c8f9-46e...|2019-11-16 17:11:...|      cart|   2601552|2053013563970159485|                null|   gorenje| 486.24|515903856|           0|            7|                null|                null|             1|\n",
      "|000664bc-748c-465...|2019-11-12 08:40:...|      cart|  12702930|2053013553559896355|                null|  cordiant|  35.78|516301799|           0|            3|                null|                null|             1|\n",
      "|00158768-d704-4fb...|2019-11-15 16:36:...|      cart|   3800966|2053013566176363511|     appliances.iron|  elenberg|  20.57|561066382|           0|            6|          appliances|                iron|             1|\n",
      "|001be2de-46a6-429...|2019-11-17 11:27:...|      cart|  26019083|2053013562393101093|                null|      null|   8.21|551388017|           0|            1|                null|                null|             1|\n",
      "|002350bc-3e5a-436...|2019-11-15 05:29:...|      cart|   1005135|2053013555631882655|electronics.smart...|     apple|1644.08|516085716|           0|            6|         electronics|          smartphone|             1|\n",
      "|00277f15-5f56-4ba...|2019-11-17 03:50:...|      cart|   1004856|2053013555631882655|electronics.smart...|   samsung| 128.42|571748494|           0|            1|         electronics|          smartphone|             1|\n",
      "|002f7d48-3cc8-473...|2019-11-27 17:24:...|      cart|   5100816|2053013553375346967|                null|    xiaomi|  32.18|564383616|           0|            4|                null|                null|             1|\n",
      "|00365e60-5e25-467...|2019-11-24 15:02:...|      cart| 100011061|2053013558249128509|                null|nicecooker| 115.83|548104388|           0|            1|                null|                null|             1|\n",
      "|003cd4c3-bbdc-45e...|2019-11-21 18:39:...|      cart|   3701378|2053013565983425517|appliances.enviro...|     bosch| 290.84|574585783|           0|            5|          appliances|         environment|             1|\n",
      "|00426c6f-18e0-454...|2019-11-15 10:16:...|      cart|   4802036|2053013554658804075|electronics.audio...|     apple| 180.13|514046387|           0|            6|         electronics|               audio|             1|\n",
      "|00455912-b414-4b9...|2019-11-28 17:38:...|      cart|   1005115|2053013555631882655|electronics.smart...|     apple| 916.37|563019969|           0|            5|         electronics|          smartphone|             1|\n",
      "|0077ffd0-35fe-47f...|2019-11-18 11:21:...|      cart|   1002532|2053013555631882655|electronics.smart...|     apple| 610.05|513246294|           0|            2|         electronics|          smartphone|             1|\n",
      "|007c14ee-89af-43f...|2019-11-20 04:59:...|      cart|  12703493|2053013553559896355|                null|  cordiant|  41.19|512550662|           0|            4|                null|                null|             1|\n",
      "|007d9125-7fa0-43b...|2019-11-15 19:19:...|      cart|   4804056|2053013554658804075|electronics.audio...|     apple| 159.33|515917527|           0|            6|         electronics|               audio|             1|\n",
      "|0087edfe-b576-414...|2019-11-15 15:46:...|      cart|  12719864|2053013553559896355|                null|     roadx|  49.19|539329212|           0|            6|                null|                null|             2|\n",
      "|0087edfe-b576-414...|2019-11-15 15:58:...|      cart|   1005100|2053013555631882655|electronics.smart...|   samsung| 136.76|539329212|           0|            6|         electronics|          smartphone|             2|\n",
      "|0094973d-692f-438...|2019-11-19 21:33:...|      cart|   1005105|2053013555631882655|electronics.smart...|     apple|1363.23|518061602|           0|            3|         electronics|          smartphone|             1|\n",
      "|00971bb5-dcb2-400...|2019-11-10 20:13:...|      cart|   3300349|2053013555355058573|                null|   redmond|  64.32|518749870|           0|            1|                null|                null|             1|\n",
      "|009f670d-2c6e-434...|2019-11-15 08:42:...|      cart|  12702916|2053013553559896355|                null|  cordiant|  36.81|543615300|           0|            6|                null|                null|             1|\n",
      "|00a241ba-dd17-4fe...|2019-11-20 10:13:...|      cart|   1004767|2053013555631882655|electronics.smart...|   samsung| 246.03|573857395|           0|            4|         electronics|          smartphone|             1|\n",
      "+--------------------+--------------------+----------+----------+-------------------+--------------------+----------+-------+---------+------------+-------------+--------------------+--------------------+--------------+\n",
      "only showing top 20 rows\n",
      "\n"
     ]
    }
   ],
   "source": [
    "df_targets.show()"
   ]
  },
  {
   "cell_type": "code",
   "execution_count": 19,
   "id": "60ea0f7c",
   "metadata": {},
   "outputs": [
    {
     "name": "stdout",
     "output_type": "stream",
     "text": [
      "+------------+\n",
      "|is_purchased|\n",
      "+------------+\n",
      "|           0|\n",
      "|           1|\n",
      "+------------+\n",
      "\n"
     ]
    }
   ],
   "source": [
    "df_targets.select(\"is_purchased\").distinct().show()"
   ]
  },
  {
   "cell_type": "code",
   "execution_count": 25,
   "id": "3f9c8bff",
   "metadata": {},
   "outputs": [],
   "source": [
    "# Saving the dataset into csv\n",
    "#df_targets = df_targets.toPandas()\n",
    "# df_targets.to_csv(r\"C:/Users/Sumit's Laptop/Desktop/CPSC 531/training_data.csv\")"
   ]
  },
  {
   "cell_type": "markdown",
   "id": "afb8dd62",
   "metadata": {},
   "source": [
    "# Importing Libraries for ML model"
   ]
  },
  {
   "cell_type": "code",
   "execution_count": null,
   "id": "9c7b03c2",
   "metadata": {},
   "outputs": [],
   "source": [
    "from sklearn.preprocessing import LabelEncoder\n",
    "from sklearn.preprocessing import MinMaxScaler\n",
    "from sklearn.model_selection import train_test_split\n",
    "from xgboost import plot_importance\n",
    "\n",
    "# Use following commands to install xgboost\n",
    "#conda install -c conda-forge xgboost\n",
    "#pip install xgboost\n",
    "\n",
    "from sklearn.utils import resample\n",
    "from sklearn import metrics\n",
    "import pandas as pd"
   ]
  },
  {
   "cell_type": "code",
   "execution_count": null,
   "id": "7d4a1cd8",
   "metadata": {},
   "outputs": [],
   "source": [
    "final_target = pd.read_csv(\"C:/Users/Sumit's Laptop/Desktop/CPSC 531/training_data.csv\")"
   ]
  },
  {
   "cell_type": "code",
   "execution_count": null,
   "id": "b2bf1660",
   "metadata": {},
   "outputs": [],
   "source": [
    "# final_target = final_target.dropna()"
   ]
  },
  {
   "cell_type": "code",
   "execution_count": null,
   "id": "4d6763e4",
   "metadata": {},
   "outputs": [],
   "source": [
    "final_target.head()"
   ]
  },
  {
   "cell_type": "code",
   "execution_count": null,
   "id": "a54a4c03",
   "metadata": {},
   "outputs": [],
   "source": [
    "is_purcahase_set = final_target[final_target['is_purchased']== 1]\n",
    "is_purcahase_set.shape[0]"
   ]
  },
  {
   "cell_type": "code",
   "execution_count": null,
   "id": "9783192a",
   "metadata": {},
   "outputs": [],
   "source": [
    "not_purcahase_set = final_target[final_target['is_purchased']== 0]\n",
    "not_purcahase_set.shape[0]"
   ]
  },
  {
   "cell_type": "code",
   "execution_count": null,
   "id": "a655d137",
   "metadata": {},
   "outputs": [],
   "source": [
    "n_samples = 500000\n",
    "is_purchase_downsampled = resample(is_purcahase_set,\n",
    "                                replace = False, \n",
    "                                n_samples = n_samples,\n",
    "                                random_state = 27)\n",
    "not_purcahase_set_downsampled = resample(not_purcahase_set,\n",
    "                                replace = False,\n",
    "                                n_samples = n_samples,\n",
    "                                random_state = 27)"
   ]
  },
  {
   "cell_type": "code",
   "execution_count": null,
   "id": "58667a44",
   "metadata": {},
   "outputs": [],
   "source": [
    "downsampled = pd.concat([is_purchase_downsampled, not_purcahase_set_downsampled])\n",
    "downsampled['is_purchased'].value_counts()"
   ]
  },
  {
   "cell_type": "code",
   "execution_count": null,
   "id": "80b398ae",
   "metadata": {},
   "outputs": [],
   "source": [
    "features = downsampled.loc[:,['brand', 'price', 'event_weekday', 'category_code_level1', 'category_code_level2', 'activity_count']]"
   ]
  },
  {
   "cell_type": "markdown",
   "id": "34989e9d",
   "metadata": {},
   "source": [
    "# Encode categorical variables"
   ]
  },
  {
   "cell_type": "code",
   "execution_count": null,
   "id": "fbcdbb28",
   "metadata": {},
   "outputs": [],
   "source": [
    "features.loc[:,'brand'] = LabelEncoder().fit_transform(downsampled.loc[:,'brand'].copy())\n",
    "features.loc[:,'event_weekday'] = LabelEncoder().fit_transform(downsampled.loc[:,'event_weekday'].copy())\n",
    "features.loc[:,'category_code_level1'] = LabelEncoder().fit_transform(downsampled.loc[:,'category_code_level1'].copy())\n",
    "features.loc[:,'category_code_level2'] = LabelEncoder().fit_transform(downsampled.loc[:,'category_code_level2'].copy())\n",
    "\n",
    "is_purchased = LabelEncoder().fit_transform(downsampled['is_purchased'])\n",
    "features.head()"
   ]
  },
  {
   "cell_type": "code",
   "execution_count": null,
   "id": "9ce11d1e",
   "metadata": {},
   "outputs": [],
   "source": [
    "print(list(features.columns))"
   ]
  },
  {
   "cell_type": "markdown",
   "id": "8db9ee4a",
   "metadata": {},
   "source": [
    "# Split the data"
   ]
  },
  {
   "cell_type": "code",
   "execution_count": null,
   "id": "b4016ca1",
   "metadata": {},
   "outputs": [],
   "source": [
    "X_train, X_test, y_train, y_test = train_test_split(features, \n",
    "                                                    is_purchased, \n",
    "                                                    test_size = 0.3, \n",
    "                                                    random_state = 0)"
   ]
  },
  {
   "cell_type": "markdown",
   "id": "ccb2e565",
   "metadata": {},
   "source": [
    "# Train the model"
   ]
  },
  {
   "cell_type": "code",
   "execution_count": null,
   "id": "2965dffd",
   "metadata": {},
   "outputs": [],
   "source": [
    "from xgboost import XGBClassifier\n",
    "model = XGBClassifier(learning_rate=0.1)\n",
    "model.fit(X_train, y_train)\n",
    "y_pred = model.predict(X_test)"
   ]
  },
  {
   "cell_type": "code",
   "execution_count": null,
   "id": "291009ab",
   "metadata": {},
   "outputs": [],
   "source": [
    "print(\"Accuracy:\",metrics.accuracy_score(y_test, y_pred))\n",
    "print(\"Precision:\",metrics.precision_score(y_test, y_pred))\n",
    "print(\"Recall:\",metrics.recall_score(y_test, y_pred))\n",
    "print(\"fbeta:\",metrics.fbeta_score(y_test, y_pred, average='weighted', beta=0.5))"
   ]
  }
 ],
 "metadata": {
  "kernelspec": {
   "display_name": "Python 3 (ipykernel)",
   "language": "python",
   "name": "python3"
  },
  "language_info": {
   "codemirror_mode": {
    "name": "ipython",
    "version": 3
   },
   "file_extension": ".py",
   "mimetype": "text/x-python",
   "name": "python",
   "nbconvert_exporter": "python",
   "pygments_lexer": "ipython3",
   "version": "3.9.13"
  }
 },
 "nbformat": 4,
 "nbformat_minor": 5
}
